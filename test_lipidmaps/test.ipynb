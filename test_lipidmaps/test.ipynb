{
 "cells": [
  {
   "metadata": {},
   "cell_type": "markdown",
   "source": "## GL 测试",
   "id": "ca7a5f6c41442fad"
  },
  {
   "metadata": {
    "ExecuteTime": {
     "end_time": "2024-12-27T06:09:41.362287Z",
     "start_time": "2024-12-27T06:09:20.548924Z"
    }
   },
   "cell_type": "code",
   "source": [
    "from rdkit import Chem\n",
    "import pandas as pd\n",
    "import LipidMol\n",
    "fp = LipidMol.FormulaParser()\n",
    "\n",
    "\n",
    "sdf_file = \"structures.sdf\"\n",
    "supplier = Chem.SDMolSupplier(sdf_file)\n",
    "\n",
    "\n",
    "matched_molecules = []\n",
    "for mol in supplier:\n",
    "    if mol is not None:\n",
    "        category = mol.GetProp(\"CATEGORY\") if mol.HasProp(\"CATEGORY\") else \"\"\n",
    "        MAIN_CLASS = mol.GetProp(\"MAIN_CLASS\") if mol.HasProp(\"MAIN_CLASS\") else \"\"\n",
    "        SUB_CLASS = mol.GetProp(\"SUB_CLASS\") if mol.HasProp(\"SUB_CLASS\") else \"\"\n",
    "        if \"[GL03]\" in MAIN_CLASS:\n",
    "            matched_molecules.append(mol)\n",
    "\n",
    "mol_data = []\n",
    "for mol in matched_molecules:\n",
    "    properties = mol.GetPropsAsDict()\n",
    "    mol_data.append(properties)\n",
    "\n",
    "df = pd.DataFrame(mol_data)\n",
    "\n",
    "for idx, row in df.iterrows():\n",
    "    print(f\"Processing {idx}\")\n",
    "    name = row[\"NAME\"]\n",
    "    formula = row[\"FORMULA\"]\n",
    "    if pd.isnull(name):\n",
    "        continue\n",
    "    f = fp.Parser(name)\n",
    "    df.at[idx, \"new_name\"] = f[0]\n",
    "    df.at[idx, \"identy\"] = fp.countAtoms(formula) == fp.countAtoms(f[0])\n",
    "    \n",
    "df.loc[df[\"identy\"] == False] "
   ],
   "id": "4b89b4bedf6f81ea",
   "outputs": [
    {
     "name": "stderr",
     "output_type": "stream",
     "text": [
      "[14:09:36] Warning: ambiguous stereochemistry - zero final chiral volume - at atom 5 ignored\n",
      "[14:09:36] Warning: ambiguous stereochemistry - zero final chiral volume - at atom 5 ignored\n",
      "[14:09:36] Warning: ambiguous stereochemistry - zero final chiral volume - at atom 5 ignored\n",
      "[14:09:36] Warning: ambiguous stereochemistry - zero final chiral volume - at atom 5 ignored\n",
      "[14:09:36] Warning: ambiguous stereochemistry - zero final chiral volume - at atom 5 ignored\n",
      "[14:09:36] Warning: ambiguous stereochemistry - opposing bonds have opposite wedging - at atom 7 ignored.\n",
      "[14:09:36] Warning: ambiguous stereochemistry - opposing bonds have opposite wedging - at atom 7 ignored.\n",
      "[14:09:36] Warning: ambiguous stereochemistry - opposing bonds have opposite wedging - at atom 7 ignored.\n",
      "[14:09:36] Warning: ambiguous stereochemistry - opposing bonds have opposite wedging - at atom 7 ignored.\n",
      "[14:09:36] Warning: ambiguous stereochemistry - opposing bonds have opposite wedging - at atom 3 ignored.\n",
      "[14:09:36] Warning: ambiguous stereochemistry - opposing bonds have opposite wedging - at atom 3 ignored.\n",
      "[14:09:36] Warning: conflicting stereochemistry - bond wedging contradiction - at atom 49 ignored\n",
      "[14:09:36] Warning: conflicting stereochemistry - bond wedging contradiction - at atom 52 ignored\n",
      "[14:09:36] Warning: conflicting stereochemistry - bond wedging contradiction - at atom 49 ignored\n",
      "[14:09:36] Warning: conflicting stereochemistry - bond wedging contradiction - at atom 52 ignored\n",
      "[14:09:36] Warning: conflicting stereochemistry - bond wedging contradiction - at atom 77 ignored\n",
      "[14:09:36] Warning: conflicting stereochemistry - bond wedging contradiction - at atom 77 ignored\n",
      "[14:09:36] Warning: conflicting stereochemistry - bond wedging contradiction - at atom 81 ignored\n",
      "[14:09:36] Warning: conflicting stereochemistry - bond wedging contradiction - at atom 81 ignored\n",
      "[14:09:37] Warning: ambiguous stereochemistry - opposing bonds have opposite wedging - at atom 4 ignored.\n",
      "[14:09:37] Warning: ambiguous stereochemistry - opposing bonds have opposite wedging - at atom 4 ignored.\n",
      "[14:09:37] Warning: ambiguous stereochemistry - opposing bonds have opposite wedging - at atom 34 ignored.\n",
      "[14:09:37] Warning: ambiguous stereochemistry - opposing bonds have opposite wedging - at atom 34 ignored.\n",
      "[14:09:37] Warning: ambiguous stereochemistry - opposing bonds have opposite wedging - at atom 4 ignored.\n",
      "[14:09:37] Warning: ambiguous stereochemistry - opposing bonds have opposite wedging - at atom 4 ignored.\n",
      "[14:09:37] Warning: ambiguous stereochemistry - opposing bonds have opposite wedging - at atom 4 ignored.\n",
      "[14:09:37] Warning: ambiguous stereochemistry - opposing bonds have opposite wedging - at atom 4 ignored.\n",
      "[14:09:41] Warning: conflicting stereochemistry - bond wedging contradiction - at atom 56 ignored\n",
      "[14:09:41] Warning: conflicting stereochemistry - bond wedging contradiction - at atom 56 ignored\n"
     ]
    }
   ],
   "execution_count": 1
  },
  {
   "metadata": {},
   "cell_type": "markdown",
   "source": [
    "##  GL03 甘油三酯\n",
    "\n",
    "对于GL03分类的分子，使用LipidMolar进行名称解析，然后与原始的FORMULA进行对比，如果两者的原子数相同，则认为解析正确，否则认为解析错误。以下是解析错误的分子：\n",
    "\n",
    "| LM_ID        | NAME                                                         | SYSTEMATIC_NAME                                              | CATEGORY           | MAIN_CLASS               | SUB_CLASS                 | EXACT_MASS | FORMULA    | INCHI_KEY                   | INCHI                                                        | SMILES                                                       | ABBREVIATION | SYNONYMS                                                     | PUBCHEM_CID | HMDB_ID     | CHEBI_ID | SWISSLIPIDS_ID | new_name                                                     | identy |\n",
    "| ------------ | ------------------------------------------------------------ | ------------------------------------------------------------ | ------------------ | ------------------------ | ------------------------- | ---------- | ---------- | --------------------------- | ------------------------------------------------------------ | ------------------------------------------------------------ | ------------ | ------------------------------------------------------------ | ----------- | ----------- | -------- | -------------- | ------------------------------------------------------------ | ------ |\n",
    "| LMGL03012614 | TG(15:0/17:1(9Z)/15:0)                                       | 1,3-dipentadecanoyl-2-(9Z-heptadecenoyl)-sn-glycerol (d5)    | Glycerolipids [GL] | Triradylglycerols [GL03] | Triacylglycerols [GL0301] | 795.7364   | C50H89D5O6 | ZURCUFHSCCLXMJ-HPIRUJEDSA-N | InChI=1S/C50H94O6/c1-4-7-10-13-16-19-22-25-26-29-32-35-38-41-44-50(53)56-47(45-54-48(51)42-39-36-33-30-27-23-20-17-14-11-8-5-2)46-55-49(52)43-40-37-34-31-28-24-21-18-15-12-9-6-3/h22,25,47H,4-21,23-24,26-46H2,1-3H3/b25-22-/i45D2,46D2,47D | [C@@]([2H])(OC(CCCCCCC/C=C\\CCCCCCC)=O)(C([2H])([2H])OC(CCCCCCCCCCCCCC)=O)C([2H])([2H])OC(=O)CCCCCCCCCCCCCC | NaN          | TG(15:0/17:1/15:0)                                           | 42607382    | NaN         | NaN      | NaN            | C50H94O6                                                     | FALSE  |\n",
    "| LMGL03012615 | Triacetin                                                    | 1,2,3-triacetyl-sn-glycerol                                  | Glycerolipids [GL] | Triradylglycerols [GL03] | Triacylglycerols [GL0301] | 218.079    | C9H14O6    | URAYPUMNDPQOKB-UHFFFAOYSA-N | InChI=1S/C9H14O6/c1-6(10)13-4-9(15-8(3)12)5-14-7(2)11/h9H,4-5H2,1-3H3 | C(OC(=O)C)[C@]([H])(OC(C)=O)COC(C)=O                         | NaN          | 1,2,3-triacetoxypropane; glycerin triacetate; 1,2,3-triacetyl-glycerol | 5541        | HMDB0029592 | 9661     | NaN            | Triacetin                                                    | FALSE  |\n",
    "| LMGL03012617 | 1,2,3-tricaprinoyl-glycerol                                  | 1,2,3-tridecanoyl-sn-sn-glycerol                             | Glycerolipids [GL] | Triradylglycerols [GL03] | Triacylglycerols [GL0301] | 554.4546   | C33H62O6   | LADGBHLMCUINGV-UHFFFAOYSA-N | InChI=1S/C33H62O6/c1-4-7-10-13-16-19-22-25-31(34)37-28-30(39-33(36)27-24-21-18-15-12-9-6-3)29-38-32(35)26-23-20-17-14-11-8-5-2/h30H,4-29H2,1-3H3 | C(OC(=O)CCCCCCCCC)[C@]([H])(OC(CCCCCCCCC)=O)COC(CCCCCCCCC)=O | NaN          | Tricaprin;Tridecanoin; 1,2,3-tridecanoyl-sn-glycerol         | 69310       | HMDB0000548 | 77388    | NaN            | 1,2,3-tricaprinoyl-glycerol                                  | FALSE  |\n",
    "| LMGL03012618 | Trilauroyl-glycerol                                          | 1,2,3-tridodecanoyl-sn-sn-glycerol                           | Glycerolipids [GL] | Triradylglycerols [GL03] | Triacylglycerols [GL0301] | 638.5485   | C39H74O6   | VMPHSYLJUKZBJJ-UHFFFAOYSA-N | InChI=1S/C39H74O6/c1-4-7-10-13-16-19-22-25-28-31-37(40)43-34-36(45-39(42)33-30-27-24-21-18-15-12-9-6-3)35-44-38(41)32-29-26-23-20-17-14-11-8-5-2/h36H,4-35H2,1-3H3 | C(OC(=O)CCCCCCCCCCC)[C@]([H])(OC(CCCCCCCCCCC)=O)COC(CCCCCCCCCCC)=O | TG 36:0      | 1,2,3-tridodecanoyl-glycerol; 1,2,3-tridodecanoyl-sn-glycerol | 10851       | HMDB0011188 | 77389    | SLM:000121575  | Trilauroyl-glycerol                                          | FALSE  |\n",
    "| LMGL03016882 | 1,2,3-(8R,9R-epoxy-17E-octadecen-4,6-diynoyl)-sn-glycerol    | 1,2,3-(8R,9R-epoxy-17E-octadecen-4,6-diynoyl)-sn-glycerol    | Glycerolipids [GL] | Triradylglycerols [GL03] | Triacylglycerols [GL0301] | 888.5176   | C56H72O9   | VHYKRGDESGKCLR-JHQOLPODSA-N | InChI=1S/C56H72O9/c1-4-7-10-13-16-19-28-37-47-50(61-47)40-31-22-25-34-43-53(57)60-46-56(64-54(58)44-35-26-23-32-41-51-48(62-51)38-29-20-17-14-11-8-5-2)65-55(59)45-36-27-24-33-42-52-49(63-52)39-30-21-18-15-12-9-6-3/h4-6,47-52,56H,1-3,7-21,28-30,34-39,43-46H2/t47-,48-,49-,50-,51-,52-/m1/s1 | C(OC(=O)CCC#CC#C[C@H]1O[C@@H]1CCCCCCCC=C)[C@](OC(=O)CCC#CC#C[C@@H]1[C@H](O1)CCCCCCCC=C)([H])OC(CCC#CC#C[C@@H]1[C@@H](CCCCCCCC=C)O1)=O | TG 53:18;O3  | Lycogaride A                                                 | 1.37E+08    | NaN         | 187626   | NaN            | 1,2,3-(8R,9R-epoxy-17E-octadecen-4,6-diynoyl)-sn-glycerol    | FALSE  |\n",
    "| LMGL03016883 | 1,2-(8R,9R-epoxy-17E-octadecen-4,6-diynoyl)-3-(hexadecanoyl)sn-glycerol | 1,2-(8R,9R-epoxy-17E-octadecen-4,6-diynoyl)-3-(hexadecanoyl)-sn-glycerol | Glycerolipids [GL] | Triradylglycerols [GL03] | Triacylglycerols [GL0301] | 856.5853   | C54H80O8   | RHMBJXSRZFZMLJ-SGGCHTPCSA-N | InChI=1S/C54H80O8/c1-4-7-10-13-16-17-18-19-20-21-24-27-36-43-51(55)58-46-54(61-52(56)44-37-30-28-34-41-49-47(59-49)39-32-25-22-14-11-8-5-2)62-53(57)45-38-31-29-35-42-50-48(60-50)40-33-26-23-15-12-9-6-3/h5-6,47-50,54H,2-4,7-27,32-33,36-40,43-46H2,1H3/t47-,48-,49-,50-/m1/s1 | C(OC(=O)CCCCCCCCCCCCCCC)[C@](OC(=O)CCC#CC#C[C@@H]1[C@H](O1)CCCCCCCC=C)([H])OC(CCC#CC#C[C@@H]1[C@@H](CCCCCCCC=C)O1)=O | TG 51:12;O2  | Lycogaride B                                                 | 1.37E+08    | NaN         | NaN      | NaN            | 1,2-(8R,9R-epoxy-17E-octadecen-4,6-diynoyl)-3-(hexadecanoyl)sn-glycerol | FALSE  |\n",
    "| LMGL03016884 | 1,2-(8R,9R-epoxy-17E-octadecen-4,6-diynoyl)-3-(8R,9R-epoxy-heptadec-4,6,16-triynoyl)-sn-glycerol | 1,2-(8R,9R-epoxy-17E-octadecen-4,6-diynoyl)-3-(8R,9R-epoxy-heptadec-4,6,16-triynoyl)-sn-glycerol | Glycerolipids [GL] | Triradylglycerols [GL03] | Triacylglycerols [GL0301] | 872.4863   | C55H68O9   | JYSJUGHVNRTIAI-MFGMJHDASA-N | InChI=1S/C55H68O9/c1-4-7-10-13-16-19-28-37-47-50(61-47)40-31-22-25-34-43-53(57)63-55(45-59-52(56)42-33-24-21-30-39-49-46(60-49)36-27-18-15-12-9-6-3)64-54(58)44-35-26-23-32-41-51-48(62-51)38-29-20-17-14-11-8-5-2/h3-5,46-51,55H,1-2,7-20,27-29,33-38,42-45H2/t46-,47-,48-,49-,50-,51-/m1/s1 | C(OC(=O)CCC#CC#C[C@H]1O[C@@H]1CCCCCCC#C[H])[C@](OC(=O)CCC#CC#C[C@@H]1[C@H](O1)CCCCCCCC=C)([H])OC(CCC#CC#C[C@@H]1[C@@H](CCCCCCCC=C)O1)=O | TG 52:19;O3  | Lycogaride C                                                 | 1.37E+08    | NaN         | NaN      | NaN            | 1,2-(8R,9R-epoxy-17E-octadecen-4,6-diynoyl)-3-(8R,9R-epoxy-heptadec-4,6,16-triynoyl)-sn-glycerol | FALSE  |\n",
    "| LMGL03016885 | 1,2,3-(8R,9R-epoxy-octadec-13Z,15Z-dien-4,6-diynoyl)-sn-glycerol | 1,2,3-(8R,9R-epoxy-octadec-13Z,15Z-dien-4,6-diynoyl)-sn-glycerol | Glycerolipids [GL] | Triradylglycerols [GL03] | Triacylglycerols [GL0301] | 882.4707   | C56H66O9   | KJSHRCSZEYAXHH-CGIRRWDMSA-N | InChI=1S/C56H66O9/c1-4-7-10-13-16-19-28-37-47-50(61-47)40-31-22-25-34-43-53(57)60-46-56(64-54(58)44-35-26-23-32-41-51-48(62-51)38-29-20-17-14-11-8-5-2)65-55(59)45-36-27-24-33-42-52-49(63-52)39-30-21-18-15-12-9-6-3/h7-18,47-52,56H,4-6,19-21,28-30,34-39,43-46H2,1-3H3/b10-7-,11-8-,12-9-,16-13-,17-14-,18-15-/t47-,48-,49-,50-,51-,52-/m1/s1 | C(OC(=O)CCC#CC#C[C@H]1O[C@@H]1CCC/C=C\\C=C/CC)[C@](OC(=O)CCC#CC#C[C@@H]1[C@H](O1)CCC/C=C\\C=C/CC)([H])OC(CCC#CC#C[C@@H]1[C@@H](CCC/C=C\\C=C/CC)O1)=O | TG 53:21;O3  | Lycogaride D                                                 | 1.37E+08    | NaN         | 186314   | NaN            | 1,2,3-(8R,9R-epoxy-octadec-13Z,15Z-dien-4,6-diynoyl)-sn-glycerol | FALSE  |\n",
    "| LMGL03016887 | 1,3-(8R,9R-epoxy-octadec-13Z,15Z-dien-4,6-diynoyl)-2-(myristoyl)-sn-glycerol | 1,3-(8R,9R-epoxy-octadec-13Z,15Z-dien-4,6-diynoyl)-2-(tetradecanoyl)-sn-glycerol | Glycerolipids [GL] | Triradylglycerols [GL03] | Triacylglycerols [GL0301] | 824.5227   | C52H72O8   | AZARSHIWRNYPBT-UCRBJODQSA-N | InChI=1S/C52H72O8/c1-4-7-10-13-16-17-18-19-22-25-35-42-50(54)59-52(60-51(55)43-36-29-27-33-40-48-46(58-48)38-31-24-21-15-12-9-6-3)44-56-49(53)41-34-28-26-32-39-47-45(57-47)37-30-23-20-14-11-8-5-2/h8-9,11-12,14-15,20-21,45-48,52H,4-7,10,13,16-19,22-25,30-31,34-38,41-44H2,1-3H3/b11-8-,12-9-,20-14-,21-15-/t45-,46-,47-,48-,52-/m1/s1 | C(OC(=O)CCC#CC#C[C@H]1O[C@@H]1CCC/C=C\\C=C/CC)[C@](OC(=O)CCC#CC#C[C@@H]1[C@H](O1)CCC/C=C\\C=C/CC)([H])OC(CCCCCCCCCCCCC)=O | TG 49:14;O2  | NaN                                                          | 1.37E+08    | NaN         | NaN      | NaN            | 1,3-(8R,9R-epoxy-octadec-13Z,15Z-dien-4,6-diynoyl)-2-(myristoyl)-sn-glycerol | FALSE  |\n",
    "| LMGL03016888 | 1,3-(8R,9R-epoxy-octadec-13Z,15Z-dien-4,6-diynoyl)-2-(palmitoyl)-sn-glycerol | 1,3-(8R,9R-epoxy-octadec-13Z,15Z-dien-4,6-diynoyl)-2-(hexadecanoyl)-sn-glycerol | Glycerolipids [GL] | Triradylglycerols [GL03] | Triacylglycerols [GL0301] | 852.554    | C54H76O8   | RWNGIBLWHAVIOK-FNKXRXPSSA-N | InChI=1S/C54H76O8/c1-4-7-10-13-16-17-18-19-20-21-24-27-37-44-52(56)61-54(62-53(57)45-38-31-29-35-42-50-48(60-50)40-33-26-23-15-12-9-6-3)46-58-51(55)43-36-30-28-34-41-49-47(59-49)39-32-25-22-14-11-8-5-2/h8-9,11-12,14-15,22-23,47-50,54H,4-7,10,13,16-21,24-27,32-33,36-40,43-46H2,1-3H3/b11-8-,12-9-,22-14-,23-15-/t47-,48-,49-,50-,54-/m1/s1 | C(OC(=O)CCC#CC#C[C@H]1O[C@@H]1CCC/C=C\\C=C/CC)[C@](OC(=O)CCC#CC#C[C@@H]1[C@H](O1)CCC/C=C\\C=C/CC)([H])OC(CCCCCCCCCCCCCCC)=O | TG 51:14;O2  | NaN                                                          | 1.37E+08    | NaN         | NaN      | NaN            | 1,3-(8R,9R-epoxy-octadec-13Z,15Z-dien-4,6-diynoyl)-2-(palmitoyl)-sn-glycerol | FALSE  |\n",
    "| LMGL03016889 | 1,3-(8R,9R-epoxy-octadec-13Z,15Z-dien-4,6-diynoyl)-2-(stearoyl)-sn-glycerol | 1,3-(8R,9R-epoxy-octadec-13Z,15Z-dien-4,6-diynoyl)-2-(octadecanoyl)-sn-glycerol | Glycerolipids [GL] | Triradylglycerols [GL03] | Triacylglycerols [GL0301] | 880.5853   | C56H80O8   | XFXPCESVAAXAPH-XOXPLLLWSA-N | InChI=1S/C56H80O8/c1-4-7-10-13-16-17-18-19-20-21-22-23-26-29-39-46-54(58)63-56(64-55(59)47-40-33-31-37-44-52-50(62-52)42-35-28-25-15-12-9-6-3)48-60-53(57)45-38-32-30-36-43-51-49(61-51)41-34-27-24-14-11-8-5-2/h8-9,11-12,14-15,24-25,49-52,56H,4-7,10,13,16-23,26-29,34-35,38-42,45-48H2,1-3H3/b11-8-,12-9-,24-14-,25-15-/t49-,50-,51-,52-,56-/m1/s1 | C(OC(=O)CCC#CC#C[C@H]1O[C@@H]1CCC/C=C\\C=C/CC)[C@](OC(=O)CCC#CC#C[C@@H]1[C@H](O1)CCC/C=C\\C=C/CC)([H])OC(CCCCCCCCCCCCCCCCC)=O | TG 53:14;O2  | NaN                                                          | 1.37E+08    | NaN         | 187844   | NaN            | 1,3-(8R,9R-epoxy-octadec-13Z,15Z-dien-4,6-diynoyl)-2-(stearoyl)-sn-glycerol | FALSE  |\n",
    "| LMGL03016890 | 1,3-(8R,9R-epoxy-octadec-13Z,15Z-dien-4,6-diynoyl)-2-(oleoyl)-sn-glycerol | 1,3-(8R,9R-epoxy-octadec-13Z,15Z-dien-4,6-diynoyl)-2-(9Z-octadecanoyl)-sn-glycerol | Glycerolipids [GL] | Triradylglycerols [GL03] | Triacylglycerols [GL0301] | 878.5697   | C56H78O8   | GQEHAGYNPDQZLJ-AYLOMLNLSA-N | InChI=1S/C56H78O8/c1-4-7-10-13-16-17-18-19-20-21-22-23-26-29-39-46-54(58)63-56(64-55(59)47-40-33-31-37-44-52-50(62-52)42-35-28-25-15-12-9-6-3)48-60-53(57)45-38-32-30-36-43-51-49(61-51)41-34-27-24-14-11-8-5-2/h8-9,11-12,14-15,19-20,24-25,49-52,56H,4-7,10,13,16-18,21-23,26-29,34-35,38-42,45-48H2,1-3H3/b11-8-,12-9-,20-19-,24-14-,25-15-/t49-,50-,51-,52-,56-/m1/s1 | C(OC(=O)CCC#CC#C[C@H]1O[C@@H]1CCC/C=C\\C=C/CC)[C@](OC(=O)CCC#CC#C[C@@H]1[C@H](O1)CCC/C=C\\C=C/CC)([H])OC(CCCCCCC/C=C\\CCCCCCCC)=O | TG 53:15;O2  | NaN                                                          | 1.37E+08    | NaN         | NaN      | NaN            | 1,3-(8R,9R-epoxy-octadec-13Z,15Z-dien-4,6-diynoyl)-2-(oleoyl)-sn-glycerol | FALSE  |\n",
    "| LMGL03016891 | 1,3-(8R,9R-epoxy-octadec-13Z,15Z-dien-4,6-diynoyl)-2-(13E-octadecen-9,11-diynoyl)-sn-glycerol | 1,3-(8R,9R-epoxy-octadec-13Z,15Z-dien-4,6-diynoyl)-2-(13E-octadecen-9,11-diynoyl)-sn-glycerol | Glycerolipids [GL] | Triradylglycerols [GL03] | Triacylglycerols [GL0301] | 870.5071   | C56H70O8   | SRPPDSSBMQWOAS-YZGNTQEUSA-N | InChI=1S/C56H70O8/c1-4-7-10-13-16-17-18-19-20-21-22-23-26-29-39-46-54(58)63-56(64-55(59)47-40-33-31-37-44-52-50(62-52)42-35-28-25-15-12-9-6-3)48-60-53(57)45-38-32-30-36-43-51-49(61-51)41-34-27-24-14-11-8-5-2/h8-9,11-16,24-25,49-52,56H,4-7,10,21-23,26-29,34-35,38-42,45-48H2,1-3H3/b11-8-,12-9-,16-13+,24-14-,25-15-/t49-,50-,51-,52-,56-/m1/s1 | C(OC(=O)CCC#CC#C[C@H]1O[C@@H]1CCC/C=C\\C=C/CC)[C@](OC(=O)CCC#CC#C[C@@H]1[C@H](O1)CCC/C=C\\C=C/CC)([H])OC(CCCCCCCC#CC#C/C=C/CCCC)=O | TG 53:19;O2  | NaN                                                          | 1.37E+08    | NaN         | 187819   | NaN            | 1,3-(8R,9R-epoxy-octadec-13Z,15Z-dien-4,6-diynoyl)-2-(13E-octadecen-9,11-diynoyl)-sn-glycerol | FALSE  |\n",
    "| LMGL03016892 | 1,3-(8R,9R-epoxy-octadec-13Z,15Z-dien-4,6-diynoyl)-2-(17E-octadecen-9,11-diynoyl)-sn-glycerol | 1,3-(8R,9R-epoxy-octadec-13Z,15Z-dien-4,6-diynoyl)-2-(17E-octadecen-9,11-diynoyl)-sn-glycerol | Glycerolipids [GL] | Triradylglycerols [GL03] | Triacylglycerols [GL0301] | 870.5071   | C56H70O8   | JYHRBIJZMPOZNX-XOXPLLLWSA-N | InChI=1S/C56H70O8/c1-4-7-10-13-16-17-18-19-20-21-22-23-26-29-39-46-54(58)63-56(64-55(59)47-40-33-31-37-44-52-50(62-52)42-35-28-25-15-12-9-6-3)48-60-53(57)45-38-32-30-36-43-51-49(61-51)41-34-27-24-14-11-8-5-2/h4,8-9,11-12,14-15,24-25,49-52,56H,1,5-7,10,13,16,21-23,26-29,34-35,38-42,45-48H2,2-3H3/b11-8-,12-9-,24-14-,25-15-/t49-,50-,51-,52-,56-/m1/s1 | C(OC(=O)CCC#CC#C[C@H]1O[C@@H]1CCC/C=C\\C=C/CC)[C@](OC(=O)CCC#CC#C[C@@H]1[C@H](O1)CCC/C=C\\C=C/CC)([H])OC(CCCCCCCC#CC#CCCCCC=C)=O | TG 53:19;O2  | NaN                                                          | 1.37E+08    | NaN         | NaN      | NaN            | 1,3-(8R,9R-epoxy-octadec-13Z,15Z-dien-4,6-diynoyl)-2-(17E-octadecen-9,11-diynoyl)-sn-glycerol | FALSE  |\n",
    "| LMGL03016893 | 1,3-(8R,9R-epoxy-octadec-13Z,15Z-dien-4,6-diynoyl)-2-(11E-octadecen-9-ynoyl)-sn-glycerol | 1,3-(8R,9R-epoxy-octadec-13Z,15Z-dien-4,6-diynoyl)-2-(11E-octadecen-9-ynoyl)-sn-glycerol | Glycerolipids [GL] | Triradylglycerols [GL03] | Triacylglycerols [GL0301] | 874.5384   | C56H74O8   | FKABAPOCBDYCJJ-XXVPFHSGSA-N | InChI=1S/C56H74O8/c1-4-7-10-13-16-17-18-19-20-21-22-23-26-29-39-46-54(58)63-56(64-55(59)47-40-33-31-37-44-52-50(62-52)42-35-28-25-15-12-9-6-3)48-60-53(57)45-38-32-30-36-43-51-49(61-51)41-34-27-24-14-11-8-5-2/h8-9,11-12,14-15,17-18,24-25,49-52,56H,4-7,10,13,16,21-23,26-29,34-35,38-42,45-48H2,1-3H3/b11-8-,12-9-,18-17+,24-14-,25-15-/t49-,50-,51-,52-,56-/m1/s1 | C(OC(=O)CCC#CC#C[C@H]1O[C@@H]1CCC/C=C\\C=C/CC)[C@](OC(=O)CCC#CC#C[C@@H]1[C@H](O1)CCC/C=C\\C=C/CC)([H])OC(CCCCCCCC#C/C=C/CCCCCC)=O | TG 53:17;O2  | NaN                                                          | 1.37E+08    | NaN         | NaN      | NaN            | 1,3-(8R,9R-epoxy-octadec-13Z,15Z-dien-4,6-diynoyl)-2-(11E-octadecen-9-ynoyl)-sn-glycerol | FALSE  |\n",
    "| LMGL03016894 | 1,3-(8R,9R-epoxy-octadec-13Z,15Z-dien-4,6-diynoyl)-2-(9,12-octadecadiynoyl)-sn-glycerol | 1,3-(8R,9R-epoxy-octadec-13Z,15Z-dien-4,6-diynoyl)-2-(9,12-octadecadiynoyl)-sn-glycerol | Glycerolipids [GL] | Triradylglycerols [GL03] | Triacylglycerols [GL0301] | 872.5227   | C56H72O8   | BVQNUGBQIPCAQY-XOXPLLLWSA-N | InChI=1S/C56H72O8/c1-4-7-10-13-16-17-18-19-20-21-22-23-26-29-39-46-54(58)63-56(64-55(59)47-40-33-31-37-44-52-50(62-52)42-35-28-25-15-12-9-6-3)48-60-53(57)45-38-32-30-36-43-51-49(61-51)41-34-27-24-14-11-8-5-2/h8-9,11-12,14-15,24-25,49-52,56H,4-7,10,13,18,21-23,26-29,34-35,38-42,45-48H2,1-3H3/b11-8-,12-9-,24-14-,25-15-/t49-,50-,51-,52-,56-/m1/s1 | C(OC(=O)CCC#CC#C[C@H]1O[C@@H]1CCC/C=C\\C=C/CC)[C@](OC(=O)CCC#CC#C[C@@H]1[C@H](O1)CCC/C=C\\C=C/CC)([H])OC(CCCCCCCC#CCC#CCCCCC)=O | TG 53:18;O2  | NaN                                                          | 1.37E+08    | NaN         | 187529   | NaN            | 1,3-(8R,9R-epoxy-octadec-13Z,15Z-dien-4,6-diynoyl)-2-(9,12-octadecadiynoyl)-sn-glycerol | FALSE  |\n",
    "| LMGL03016895 | 1,3-(8R,9R-epoxy-octadec-13Z,15Z-dien-4,6-diynoyl)-2-(13E,17E-octadecadien-9,11-diynoyl)-sn-glycerol | 1,3-(8R,9R-epoxy-octadec-13Z,15Z-dien-4,6-diynoyl)-2-(13E,17E-octadecadien-9,11-diynoyl)-sn-glycerol | Glycerolipids [GL] | Triradylglycerols [GL03] | Triacylglycerols [GL0301] | 868.4914   | C56H68O8   | CJDWIAGGEKECNM-YZGNTQEUSA-N | InChI=1S/C56H68O8/c1-4-7-10-13-16-17-18-19-20-21-22-23-26-29-39-46-54(58)63-56(64-55(59)47-40-33-31-37-44-52-50(62-52)42-35-28-25-15-12-9-6-3)48-60-53(57)45-38-32-30-36-43-51-49(61-51)41-34-27-24-14-11-8-5-2/h4,8-9,11-16,24-25,49-52,56H,1,5-7,10,21-23,26-29,34-35,38-42,45-48H2,2-3H3/b11-8-,12-9-,16-13+,24-14-,25-15-/t49-,50-,51-,52-,56-/m1/s1 | C(OC(=O)CCC#CC#C[C@H]1O[C@@H]1CCC/C=C\\C=C/CC)[C@](OC(=O)CCC#CC#C[C@@H]1[C@H](O1)CCC/C=C\\C=C/CC)([H])OC(CCCCCCCC#CC#C/C=C/CCC=C)=O | TG 53:20;O2  | NaN                                                          | 1.37E+08    | NaN         | NaN      | NaN            | 1,3-(8R,9R-epoxy-octadec-13Z,15Z-dien-4,6-diynoyl)-2-(13E,17E-octadecadien-9,11-diynoyl)-sn-glycerol | FALSE  |\n",
    "| LMGL03016896 | 1,3-(8R,9R-epoxy-octadec-13Z,15Z-dien-4,6-diynoyl)-2-(8-hydroxy-17E-octadecen-9,11-diynoyl)-sn-glycerol | 1,3-(8R,9R-epoxy-octadec-13Z,15Z-dien-4,6-diynoyl)-2-(8-hydroxy-17E-octadecen-9,11-diynoyl)-sn-glycerol | Glycerolipids [GL] | Triradylglycerols [GL03] | Triacylglycerols [GL0301] | 886.502    | C56H70O9   | RHTUUIXNOAFTAP-TVZYAKLISA-N | InChI=1S/C56H70O9/c1-4-7-10-13-16-19-20-29-38-48(57)39-30-23-26-36-45-54(59)64-56(65-55(60)46-37-28-25-34-43-52-50(63-52)41-32-22-18-15-12-9-6-3)47-61-53(58)44-35-27-24-33-42-51-49(62-51)40-31-21-17-14-11-8-5-2/h4,8-9,11-12,14-15,17-18,48-52,56-57H,1,5-7,10,13,16,21-23,26,30-32,35-37,39-41,44-47H2,2-3H3/b11-8-,12-9-,17-14-,18-15-/t48?,49-,50-,51-,52-,56-/m1/s1 | C(OC(=O)CCC#CC#C[C@H]1O[C@@H]1CCC/C=C\\C=C/CC)[C@](OC(=O)CCC#CC#C[C@@H]1[C@H](O1)CCC/C=C\\C=C/CC)([H])OC(CCCCCCC(O)C#CC#CCCCCC=C)=O | TG 53:19;O3  | NaN                                                          | 1.37E+08    | NaN         | NaN      | NaN            | 1,3-(8R,9R-epoxy-octadec-13Z,15Z-dien-4,6-diynoyl)-2-(8-hydroxy-17E-octadecen-9,11-diynoyl)-sn-glycerol | FALSE  |\n",
    "| LMGL03016897 | 1,3-(8R,9R-epoxy-octadec-13Z,15Z-dien-4,6-diynoyl)-2-(8-hydroxy-13E,17E-octadecadien-9,11-diynoyl)-sn-glycerol | 1,3-(8R,9R-epoxy-octadec-13Z,15Z-dien-4,6-diynoyl)-2-(8-hydroxy-13E,17E-octadecadien-9,11-diynoyl)-sn-glycerol | Glycerolipids [GL] | Triradylglycerols [GL03] | Triacylglycerols [GL0301] | 884.4863   | C56H68O9   | MRRGSLVMABXBHQ-LPULISTDSA-N | InChI=1S/C56H68O9/c1-4-7-10-13-16-19-20-29-38-48(57)39-30-23-26-36-45-54(59)64-56(65-55(60)46-37-28-25-34-43-52-50(63-52)41-32-22-18-15-12-9-6-3)47-61-53(58)44-35-27-24-33-42-51-49(62-51)40-31-21-17-14-11-8-5-2/h4,8-9,11-18,48-52,56-57H,1,5-7,10,21-23,26,30-32,35-37,39-41,44-47H2,2-3H3/b11-8-,12-9-,16-13+,17-14-,18-15-/t48?,49-,50-,51-,52-,56-/m1/s1 | C(OC(=O)CCC#CC#C[C@H]1O[C@@H]1CCC/C=C\\C=C/CC)[C@](OC(=O)CCC#CC#C[C@@H]1[C@H](O1)CCC/C=C\\C=C/CC)([H])OC(CCCCCCC(O)C#CC#C/C=C/CCC=C)=O | TG 53:20;O3  | NaN                                                          | 1.37E+08    | NaN         | NaN      | NaN            | 1,3-(8R,9R-epoxy-octadec-13Z,15Z-dien-4,6-diynoyl)-2-(8-hydroxy-13E,17E-octadecadien-9,11-diynoyl)-sn-glycerol | FALSE  |\n",
    "| LMGL03016898 | 1,3-(8R,9R-epoxy-octadec-13Z,15Z-dien-4,6-diynoyl)-2-(8-hydroxy-13E-octadecen-9,11-diynoyl)-sn-glycerol | 1,3-(8R,9R-epoxy-octadec-13Z,15Z-dien-4,6-diynoyl)-2-(8-hydroxy-13E-octadecen-9,11-diynoyl)-sn-glycerol | Glycerolipids [GL] | Triradylglycerols [GL03] | Triacylglycerols [GL0301] | 886.502    | C56H70O9   | WJCONRMJSHJGRG-LPULISTDSA-N | InChI=1S/C56H70O9/c1-4-7-10-13-16-19-20-29-38-48(57)39-30-23-26-36-45-54(59)64-56(65-55(60)46-37-28-25-34-43-52-50(63-52)41-32-22-18-15-12-9-6-3)47-61-53(58)44-35-27-24-33-42-51-49(62-51)40-31-21-17-14-11-8-5-2/h8-9,11-18,48-52,56-57H,4-7,10,21-23,26,30-32,35-37,39-41,44-47H2,1-3H3/b11-8-,12-9-,16-13+,17-14-,18-15-/t48?,49-,50-,51-,52-,56-/m1/s1 | C(OC(=O)CCC#CC#C[C@H]1O[C@@H]1CCC/C=C\\C=C/CC)[C@](OC(=O)CCC#CC#C[C@@H]1[C@H](O1)CCC/C=C\\C=C/CC)([H])OC(CCCCCCC(O)C#CC#C/C=C/CCCC)=O | TG 53:19;O3  | NaN                                                          | 1.37E+08    | NaN         | NaN      | NaN            | 1,3-(8R,9R-epoxy-octadec-13Z,15Z-dien-4,6-diynoyl)-2-(8-hydroxy-13E-octadecen-9,11-diynoyl)-sn-glycerol | FALSE  |\n",
    "| LMGL03016899 | TG(18:0(11S-acetoxy)/2:0/2:0)                                | 1-(11S-acetoxyoctadecanoyl)-2,3-diacetyl-sn-glycerol         | Glycerolipids [GL] | Triradylglycerols [GL03] | Triacylglycerols [GL0301] | 500.3349   | C27H48O8   | BYBRYCIBUKIVHW-UIOOFZCWSA-N | InChI=1S/C27H48O8/c1-5-6-7-11-14-17-25(34-23(3)29)18-15-12-9-8-10-13-16-19-27(31)33-21-26(35-24(4)30)20-32-22(2)28/h25-26H,5-21H2,1-4H3/t25-,26-/m0/s1 | C(OC(=O)C)[C@]([H])(OC(C)=O)COC(CCCCCCCCC[C@@H](OC(=O)C)CCCCCCC)=O | TG 24:1;O2   | NaN                                                          | 1.71E+08    | NaN         | NaN      | NaN            | C25H46O6                                                     | FALSE  |\n",
    "| LMGL03016900 | Ricinolein                                                   | 1,2,3-tri-(12R-hydroxy-9Z-octadecenoyl)-sn-glycerol          | Glycerolipids [GL] | Triradylglycerols [GL03] | Triacylglycerols [GL0301] | 932.768    | C57H104O9  | ZEMPKEQAKRGZGQ-VBJOUPRGSA-N | InChI=1S/C57H104O9/c1-4-7-10-31-40-51(58)43-34-25-19-13-16-22-28-37-46-55(61)64-49-54(66-57(63)48-39-30-24-18-15-21-27-36-45-53(60)42-33-12-9-6-3)50-65-56(62)47-38-29-23-17-14-20-26-35-44-52(59)41-32-11-8-5-2/h25-27,34-36,51-54,58-60H,4-24,28-33,37-50H2,1-3H3/b34-25-,35-26-,36-27-/t51-,52-,53-/m1/s1 | C(OC(=O)CCCCCCC/C=C\\C[C@H](O)CCCCCC)[C@]([H])(OC(CCCCCCC/C=C\\C[C@H](O)CCCCCC)=O)COC(CCCCCCC/C=C\\C[C@H](O)CCCCCC)=O | TG 54:3;O3   | 1,2,3-triricinoleyoyl-glycerol; Glyceryl triricinoleate      | 11764524    | NaN         | 140471   | NaN            | Ricinolein                                                   | FALSE  |\n",
    "| LMGL03016901 | TG(18:2(12Y,14Y)/18:1(9Z)/18:2(12Y,14Y))                     | 1,3-di-(12,14-octadecadiynoyl)-2-(9Z-octadecenoyl)-glycerol  | Glycerolipids [GL] | Triradylglycerols [GL03] | Triacylglycerols [GL0301] | 872.6894   | C57H92O6   | HFXKYCKMBKWFSP-JRTFMWKKSA-N | InChI=1S/C57H92O6/c1-4-7-10-13-16-19-22-25-28-31-34-37-40-43-46-49-55(58)61-52-54(63-57(60)51-48-45-42-39-36-33-30-27-24-21-18-15-12-9-6-3)53-62-56(59)50-47-44-41-38-35-32-29-26-23-20-17-14-11-8-5-2/h25,28,54H,4-10,13,16,19,22-24,26-27,29-53H2,1-3H3/b28-25-/t54-/m1/s1 | C(OC(=O)CCCCCCCCCCC#CC#CCCC)[C@]([H])(OC(CCCCCCCCCCC#CC#CCCC)=O)COC(CCCCCCC/C=C\\CCCCCCCC)=O | TG 54:9      | 1,3-dimacrocarpoyl-2-oleoyl-glycerol                         | 1.71E+08    | NaN         | NaN      | NaN            | C57H100O6                                                    | FALSE  |\n",
    "| LMGL03016902 | TG(8:0/16:2(9Z,12Z)/8:0)                                     | 1,3-dioctanoyl-2-(9Z,12Z-octadecadienoyl)-sn-glycerol        | Glycerolipids [GL] | Triradylglycerols [GL03] | Triacylglycerols [GL0301] | 606.4859   | C37H66O6   | BTLPCOOVNVTENY-NFYLBXPESA-N | InChI=1S/C37H66O6/c1-4-7-10-13-14-15-16-17-18-19-20-21-22-25-28-31-37(40)43-34(32-41-35(38)29-26-23-11-8-5-2)33-42-36(39)30-27-24-12-9-6-3/h14-15,17-18,34H,4-13,16,19-33H2,1-3H3/b15-14-,18-17- | C(OC(=O)CCCCCCC)[C@]([H])(OC(CCCCCCC/C=C\\C/C=C\\CCCCC)=O)COC(CCCCCCC)=O | TG 34:2      | 1,3-Dicapryloyl-2-linoleoylglycerol                          | 10100225    | NaN         | NaN      | NaN            | C35H62O6                                                     | FALSE  |\n",
    "| LMGL03016903 | Lycogaride G                                                 | 1,3-(8R,9R-epoxy-octadec-13Z,15Z-dien-4,6-diynoyl)-sn-glycerol | Glycerolipids [GL] | Triradylglycerols [GL03] | Triacylglycerols [GL0301] | 614.3244   | C38H46O7   | ORIODYHBOPZEFP-HLWJOEKMSA-N | InChI=1S/C38H46O7/c1-3-5-7-9-11-13-19-25-32-34(43-32)27-21-15-17-23-29-36(39)42-31-38(41)45-37(40)30-24-18-16-22-28-35-33(44-35)26-20-14-12-10-8-6-4-2/h5-12,32-35,38,41H,3-4,13-14,19-20,23-26,29-31H2,1-2H3/b7-5-,8-6-,11-9-,12-10-/t32-,33-,34-,35-,38+/m1/s1 | C(OC(=O)CCC#CC#C[C@@H]1[C@H](O1)CCC/C=C\\C=C/CC)[C@](O)([H])OC(CCC#CC#C[C@@H]1[C@@H](CCC/C=C\\C=C/CC)O1)=O | DG 35:14;O2  | NaN                                                          | NaN         | NaN         | NaN      | NaN            | Lycogaride G                                                 | FALSE  |"
   ],
   "id": "a0af89a3ba839636"
  },
  {
   "metadata": {
    "ExecuteTime": {
     "end_time": "2024-12-27T06:12:12.215313Z",
     "start_time": "2024-12-27T06:12:12.210460Z"
    }
   },
   "cell_type": "code",
   "source": "fp.countAtoms(\"C47H83D5O6\") == fp.countAtoms(\"C47H83O6D5\")\n",
   "id": "f2e6ca2df2e82e58",
   "outputs": [
    {
     "data": {
      "text/plain": [
       "True"
      ]
     },
     "execution_count": 10,
     "metadata": {},
     "output_type": "execute_result"
    }
   ],
   "execution_count": 10
  },
  {
   "metadata": {},
   "cell_type": "code",
   "outputs": [],
   "execution_count": null,
   "source": "",
   "id": "84533dd5264cb29e"
  }
 ],
 "metadata": {
  "kernelspec": {
   "display_name": "Python 3",
   "language": "python",
   "name": "python3"
  },
  "language_info": {
   "codemirror_mode": {
    "name": "ipython",
    "version": 2
   },
   "file_extension": ".py",
   "mimetype": "text/x-python",
   "name": "python",
   "nbconvert_exporter": "python",
   "pygments_lexer": "ipython2",
   "version": "2.7.6"
  }
 },
 "nbformat": 4,
 "nbformat_minor": 5
}
